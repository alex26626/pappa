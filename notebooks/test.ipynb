{
 "cells": [
  {
   "cell_type": "code",
   "execution_count": 2,
   "metadata": {},
   "outputs": [],
   "source": [
    "import pandas as pd"
   ]
  },
  {
   "cell_type": "code",
   "execution_count": 2,
   "metadata": {},
   "outputs": [],
   "source": [
    "def read_data_hateval(path_data):\n",
    "    # Read the data file\n",
    "    hateval = pd.read_csv(path_data, sep=\",\")\n",
    "    input_texts = [text[:-1] + '.' if not text.endswith('.') else text for text in hateval['text'].tolist()]\n",
    "    return hateval['id'].tolist(), input_texts, hateval['HS'].tolist()"
   ]
  },
  {
   "cell_type": "code",
   "execution_count": 10,
   "metadata": {},
   "outputs": [
    {
     "name": "stderr",
     "output_type": "stream",
     "text": [
      "/Users/llupo/miniconda3/envs/mentalenv/lib/python3.10/site-packages/openpyxl/worksheet/_reader.py:312: UserWarning: Data Validation extension is not supported and will be removed\n",
      "  warn(msg)\n"
     ]
    },
    {
     "data": {
      "text/plain": [
       "500"
      ]
     },
     "execution_count": 10,
     "metadata": {},
     "output_type": "execute_result"
    }
   ],
   "source": [
    "def read_data_pappa(path_data):\n",
    "    # Read the xlsx data file to table\n",
    "    pappa = pd.read_excel(path_data, sheet_name='main')\n",
    "    # Read text and labels\n",
    "    input_texts = [text[:-1] + '.' if not text.endswith('.') else text for text in pappa['text_clean'].tolist()]\n",
    "    gold_labels = [pappa['dim1'].tolist(), pappa['dim2'].tolist(), pappa['dim3'].tolist()]\n",
    "    return input_texts, gold_labels\n",
    "\n",
    "data = read_data_pappa('/Users/llupo/dev/pappa/data/human_annotation/ELINsample_for_check_human.xlsx')"
   ]
  },
  {
   "cell_type": "code",
   "execution_count": 5,
   "metadata": {},
   "outputs": [
    {
     "name": "stdout",
     "output_type": "stream",
     "text": [
      "/Users/llupo/dev/pappa/notebooks\n"
     ]
    }
   ],
   "source": [
    "!pwd"
   ]
  },
  {
   "cell_type": "code",
   "execution_count": null,
   "metadata": {},
   "outputs": [],
   "source": []
  }
 ],
 "metadata": {
  "kernelspec": {
   "display_name": "mentalenv",
   "language": "python",
   "name": "python3"
  },
  "language_info": {
   "codemirror_mode": {
    "name": "ipython",
    "version": 3
   },
   "file_extension": ".py",
   "mimetype": "text/x-python",
   "name": "python",
   "nbconvert_exporter": "python",
   "pygments_lexer": "ipython3",
   "version": "3.10.11"
  },
  "orig_nbformat": 4
 },
 "nbformat": 4,
 "nbformat_minor": 2
}
