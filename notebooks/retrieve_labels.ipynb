{
 "cells": [
  {
   "cell_type": "code",
   "execution_count": 165,
   "metadata": {},
   "outputs": [],
   "source": [
    "import collections\n",
    "import pandas as pd\n",
    "import numpy as np"
   ]
  },
  {
   "cell_type": "code",
   "execution_count": 171,
   "metadata": {},
   "outputs": [
    {
     "name": "stdout",
     "output_type": "stream",
     "text": [
      "Retrieving predictions for 3 dimensions...\n",
      "Counter({'NA,EXPLICIT,IDEAL': 1, 'PASSIVE,NA,NA': 1, 'NA,NA,NA': 1, 'ACTIVE_POS_OTHER,EXPLICIT,DESCRIPTIVE': 1, 'NA,IMPLICIT,DESCRIPTIVE': 1})\n",
      "[['NA', 'EXPLICIT', 'IDEAL'], ['PASSIVE', 'NA', 'NA'], ['NA', 'NA', 'NA'], ['ACTIVE_POS_OTHER', 'EXPLICIT', 'DESCRIPTIVE'], ['NA', 'IMPLICIT', 'DESCRIPTIVE']]\n",
      "Retrieved predictions for dimension 0\n"
     ]
    },
    {
     "data": {
      "text/html": [
       "<div>\n",
       "<style scoped>\n",
       "    .dataframe tbody tr th:only-of-type {\n",
       "        vertical-align: middle;\n",
       "    }\n",
       "\n",
       "    .dataframe tbody tr th {\n",
       "        vertical-align: top;\n",
       "    }\n",
       "\n",
       "    .dataframe thead th {\n",
       "        text-align: right;\n",
       "    }\n",
       "</style>\n",
       "<table border=\"1\" class=\"dataframe\">\n",
       "  <thead>\n",
       "    <tr style=\"text-align: right;\">\n",
       "      <th></th>\n",
       "      <th>prompt</th>\n",
       "      <th>prediction</th>\n",
       "    </tr>\n",
       "  </thead>\n",
       "  <tbody>\n",
       "    <tr>\n",
       "      <th>0</th>\n",
       "      <td>None</td>\n",
       "      <td>NA</td>\n",
       "    </tr>\n",
       "    <tr>\n",
       "      <th>1</th>\n",
       "      <td>None</td>\n",
       "      <td>PASSIVE</td>\n",
       "    </tr>\n",
       "    <tr>\n",
       "      <th>2</th>\n",
       "      <td>None</td>\n",
       "      <td>NA</td>\n",
       "    </tr>\n",
       "    <tr>\n",
       "      <th>3</th>\n",
       "      <td>None</td>\n",
       "      <td>ACTIVE_POS_OTHER</td>\n",
       "    </tr>\n",
       "    <tr>\n",
       "      <th>4</th>\n",
       "      <td>None</td>\n",
       "      <td>NA</td>\n",
       "    </tr>\n",
       "  </tbody>\n",
       "</table>\n",
       "</div>"
      ],
      "text/plain": [
       "  prompt        prediction\n",
       "0   None                NA\n",
       "1   None           PASSIVE\n",
       "2   None                NA\n",
       "3   None  ACTIVE_POS_OTHER\n",
       "4   None                NA"
      ]
     },
     "execution_count": 171,
     "metadata": {},
     "output_type": "execute_result"
    }
   ],
   "source": [
    "class LMClassifier:\n",
    "    def __init__(self, input_texts, labels_dict, gold_labels):\n",
    "        \"\"\"\n",
    "        Args:\n",
    "            input_texts (List[str]): List of input texts to generate predictions for.\n",
    "            labels_dict (Dict[str, int]): Dictionary mapping label names to label IDs.\n",
    "            gold_labels (Union[pd.DataFrame, List[str]]): Gold labels corresponding to the input texts.\n",
    "        \"\"\"\n",
    "        self.input_texts = input_texts\n",
    "        self.labels_dict = labels_dict\n",
    "        self.gold_labels = gold_labels\n",
    "\n",
    "        # check the dimensionality of the labels:\n",
    "        # dimensionality greater than 1 means dealing with\n",
    "        # multiple classification tasks at a time\n",
    "        try:\n",
    "            self.label_dims = self.labels_dict['label_dims']\n",
    "        except KeyError:\n",
    "            self.label_dims = 1\n",
    "        assert self.label_dims > 0, \"Labels dimensions must be greater than 0.\"\n",
    "\n",
    "    def generate_predictions(self):\n",
    "        raise NotImplementedError\n",
    "    \n",
    "    def retrieve_predicted_labels(self, predictions, default_label, prompts, only_dim=None):\n",
    "\n",
    "        # convert the predictions to lowercase\n",
    "        predictions =  list(map(str.lower,predictions))\n",
    "\n",
    "        # retrieve the labels that are contained in the predictions\n",
    "        predicted_labels = []\n",
    "        if self.label_dims == 1:\n",
    "            # retrieve a single label for each prediction since a single classification task is performed at a time\n",
    "            print(\"Retrieving predictions...\")\n",
    "            for prediction in predictions:\n",
    "                labels_in_prediction = [self.labels_dict.get(label) for label in self.labels_dict.keys() if label in prediction]\n",
    "                predicted_labels.append(labels_in_prediction[0]) if len(labels_in_prediction) > 0 else predicted_labels.append(default_label)\n",
    "            # Count the number of predictions of each type and print the result\n",
    "            print(collections.Counter(predicted_labels))\n",
    "        else:\n",
    "            # retrieve multiple labels for each prediction since multiple classification tasks are performed at a time\n",
    "            print(f\"Retrieving predictions for {self.label_dims} dimensions...\")\n",
    "            for prediction in predictions:\n",
    "                labels_in_prediction = []\n",
    "                for dim in self.labels_dict.keys():\n",
    "                    if dim != 'label_dims':\n",
    "                        dim_label = []\n",
    "                        for label in self.labels_dict[dim].keys():\n",
    "                            if label in prediction:\n",
    "                                dim_label.append(self.labels_dict[dim].get(label))   \n",
    "                        dim_label = dim_label[0] if len(dim_label) > 0 else default_label\n",
    "                        labels_in_prediction.append(dim_label)                                            \n",
    "                predicted_labels.append(labels_in_prediction)\n",
    "            # Count the number of predictions of each type and print the result\n",
    "            print(collections.Counter([\",\".join(labels) for labels in predicted_labels]))\n",
    "        \n",
    "        print(predicted_labels)\n",
    "\n",
    "        # Add the data to the DataFrame\n",
    "        if self.label_dims == 1:\n",
    "            df = pd.DataFrame({'prompt': prompts, 'prediction': predicted_labels})\n",
    "        elif self.label_dims > 1:\n",
    "            if only_dim is not None:\n",
    "                # retrieve only the predictions for a specific dimension\n",
    "                print(f\"Retrieved predictions for dimension {only_dim}\")\n",
    "                df = pd.DataFrame({'prompt': prompts, 'prediction': pd.DataFrame(predicted_labels).to_numpy()[:,only_dim]})\n",
    "            else:\n",
    "                print(\"Retrieved predictions for all dimensions\")\n",
    "                df = pd.DataFrame(predicted_labels).fillna(default_label)\n",
    "                # rename columns to prediction_n\n",
    "                df.columns = [f\"prediction_dim{i}\" for i in range(1, len(df.columns)+1)]\n",
    "                # add prompts to df\n",
    "                df['prompt'] = prompts\n",
    "\n",
    "        return df\n",
    "\n",
    "# Example usage\n",
    "predictions = [\n",
    "    'not_applicable\\nRole: NA\\nRole: PASSIVE, EXPLICIT, IDEAL',\n",
    "    'NA, NA, PASSIVE, ACTIVE_POS_OTHER, PASSIVE, ACTIVE',\n",
    "    'NA',\n",
    "    'NA\\nNA\\ACTIVE_POSITIVE_OTHER, EXPLICIT, DESCRIPTIVE\\nACTIVE',\n",
    "    'NA, IMPLICIT, DESCRIPTIVE'\n",
    "    ]\n",
    "\n",
    "labels_dict = {\n",
    "    'label_dims': 3,\n",
    "    'dim1': {\n",
    "        'not_applicable': 'NA',\n",
    "        'passive': 'PASSIVE',\n",
    "        'active_negative': 'ACTIVE_NEG',\n",
    "        'active_positive_challenging': 'ACTIVE_POS_CHALLENGING',\n",
    "        'active_positive_caring': 'ACTIVE_POS_CARING',\n",
    "        'active_positive_other': 'ACTIVE_POS_OTHER',\n",
    "    },\n",
    "    'dim2': {\n",
    "        'explicit': 'EXPLICIT',\n",
    "        'implicit': 'IMPLICIT',\n",
    "    },\n",
    "    'dim3': {\n",
    "        'descriptive': 'DESCRIPTIVE',\n",
    "        'ideal': 'IDEAL'\n",
    "    }\n",
    "    }\n",
    "\n",
    "default_label='NA'\n",
    "labels_allowed=3\n",
    "\n",
    "classifier = LMClassifier(\n",
    "    input_texts=None,\n",
    "    labels_dict=labels_dict,\n",
    "    gold_labels=None\n",
    "    )\n",
    "\n",
    "df_predicted_labels = classifier.retrieve_predicted_labels(\n",
    "    predictions=predictions,\n",
    "    default_label=default_label,\n",
    "    prompts=None,\n",
    "    only_dim=0\n",
    "    )\n",
    "\n",
    "df_predicted_labels\n",
    "\n",
    "# for i, prediction in enumerate(predictions):\n",
    "#     print(f\"{prediction}\")\n",
    "#     print(f\"----------- \\n{result[i]}\")\n",
    "#     print(\"\\n\")\n",
    "\n",
    "\n",
    "\n"
   ]
  },
  {
   "cell_type": "code",
   "execution_count": 100,
   "metadata": {},
   "outputs": [
    {
     "data": {
      "text/plain": [
       "[4, 1, 1, 3, 2]"
      ]
     },
     "execution_count": 100,
     "metadata": {},
     "output_type": "execute_result"
    }
   ],
   "source": [
    "predicted_labels = [['not_applicable', 'passive', 'explicit', 'ideal'], ['passive'], [''], ['active_positive_other', 'explicit', 'descriptive'], ['implicit', 'descriptive']]\n",
    "[len(labels) if len(labels) > 0 else default_label for labels in predicted_labels]"
   ]
  },
  {
   "cell_type": "code",
   "execution_count": 170,
   "metadata": {},
   "outputs": [
    {
     "data": {
      "text/plain": [
       "array(['NA', 'PASSIVE', 'NA', 'ACTIVE_POS_OTHER', 'NA'], dtype=object)"
      ]
     },
     "execution_count": 170,
     "metadata": {},
     "output_type": "execute_result"
    }
   ],
   "source": [
    "predicted_labels = [['NA', 'EXPLICIT', 'IDEAL'], ['PASSIVE', 'NA', 'NA'], ['NA', 'NA', 'NA'], ['ACTIVE_POS_OTHER', 'EXPLICIT', 'DESCRIPTIVE'], ['NA', 'IMPLICIT', 'DESCRIPTIVE']]\n",
    "predicted_labels = pd.DataFrame(predicted_labels).to_numpy()\n",
    "predicted_labels[:,0]"
   ]
  },
  {
   "cell_type": "code",
   "execution_count": 78,
   "metadata": {},
   "outputs": [
    {
     "name": "stdout",
     "output_type": "stream",
     "text": [
      "[['not_applicable', 'passive', 'explicit', 'ideal'], ['passive'], 'NA', ['active_positive_other', 'explicit', 'descriptive'], ['implicit', 'descriptive']]\n"
     ]
    }
   ],
   "source": [
    "predicted_labels = []\n",
    "for prediction in predictions:\n",
    "    labels_in_prediction = [label for label in labels_dict.keys() if label in prediction]\n",
    "    predicted_labels.append(labels_in_prediction) if len(labels_in_prediction) > 0 else predicted_labels.append([default_label])\n",
    "print(predicted_labels)\n",
    "        "
   ]
  },
  {
   "cell_type": "code",
   "execution_count": null,
   "metadata": {},
   "outputs": [],
   "source": []
  }
 ],
 "metadata": {
  "kernelspec": {
   "display_name": "mentalenv",
   "language": "python",
   "name": "python3"
  },
  "language_info": {
   "codemirror_mode": {
    "name": "ipython",
    "version": 3
   },
   "file_extension": ".py",
   "mimetype": "text/x-python",
   "name": "python",
   "nbconvert_exporter": "python",
   "pygments_lexer": "ipython3",
   "version": "3.10.8"
  },
  "orig_nbformat": 4
 },
 "nbformat": 4,
 "nbformat_minor": 2
}
