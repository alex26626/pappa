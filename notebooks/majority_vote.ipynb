{
 "cells": [
  {
   "cell_type": "code",
   "execution_count": 29,
   "metadata": {},
   "outputs": [],
   "source": [
    "import os\n",
    "import pandas as pd"
   ]
  },
  {
   "cell_type": "code",
   "execution_count": 31,
   "metadata": {},
   "outputs": [
    {
     "name": "stdout",
     "output_type": "stream",
     "text": [
      "Vote in not uninimous in 78 out of 350 cases.\n"
     ]
    }
   ],
   "source": [
    "instruction = \"reasoned_fewshot\"\n",
    "preds_paths = [\n",
    "    f\"../results/pappa_dim1_{instruction}_text-davinci-003/raw_predictions.txt\",\n",
    "    f\"../results/pappa_dim1_{instruction}_sh1_text-davinci-003/raw_predictions.txt\",\n",
    "    f\"../results/pappa_dim1_{instruction}_sh2_text-davinci-003/raw_predictions.txt\",\n",
    "]\n",
    "outdir = f\"../results/pappa_dim1_{instruction}_majority_text-davinci-003\"\n",
    "os.makedirs(outdir, exist_ok=True)\n",
    "\n",
    "# read predictions and save each in a column of a dataframe table\n",
    "preds = []\n",
    "for preds_path in preds_paths:\n",
    "    with open(preds_path, \"r\") as f:\n",
    "        # remove newline characters\n",
    "        preds.append([line.rstrip() for line in f.readlines()])\n",
    "\n",
    "# create dataframe\n",
    "df = pd.DataFrame()\n",
    "df[\"preds\"] = preds[0]\n",
    "df[\"preds_sh1\"] = preds[1]\n",
    "df[\"preds_sh2\"] = preds[2]\n",
    "\n",
    "\n",
    "# get the majority vote\n",
    "def majority_vote(row):\n",
    "    # get the most common prediction\n",
    "    return row.value_counts().index[0]\n",
    "\n",
    "df[\"majority_vote\"] = df.apply(majority_vote, axis=1)\n",
    "\n",
    "# retain only columns where the majority vote is different from one of the original predictions\n",
    "df_non_unanimous = df[(df[\"majority_vote\"] != df[\"preds\"]) | (df[\"majority_vote\"] != df[\"preds_sh1\"]) | (df[\"majority_vote\"] != df[\"preds_sh2\"])]\n",
    "print(\"Vote in not uninimous in\", len(df_non_unanimous), \"out of\", len(df), \"cases.\")\n",
    "\n",
    "# save majority vote predictions\n",
    "with open(os.path.join(outdir, \"raw_predictions.txt\"), \"w\") as f:\n",
    "    for pred in df[\"majority_vote\"]:\n",
    "        f.write(pred + \"\\n\")"
   ]
  },
  {
   "cell_type": "code",
   "execution_count": null,
   "metadata": {},
   "outputs": [],
   "source": []
  }
 ],
 "metadata": {
  "kernelspec": {
   "display_name": "mentalenv",
   "language": "python",
   "name": "python3"
  },
  "language_info": {
   "codemirror_mode": {
    "name": "ipython",
    "version": 3
   },
   "file_extension": ".py",
   "mimetype": "text/x-python",
   "name": "python",
   "nbconvert_exporter": "python",
   "pygments_lexer": "ipython3",
   "version": "3.10.8"
  },
  "orig_nbformat": 4
 },
 "nbformat": 4,
 "nbformat_minor": 2
}
